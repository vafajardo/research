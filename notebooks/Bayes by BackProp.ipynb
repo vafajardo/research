{
 "cells": [
  {
   "cell_type": "code",
   "execution_count": 2,
   "metadata": {},
   "outputs": [],
   "source": [
    "import numpy as np\n",
    "import tensorflow as tf\n",
    "from tensorflow.contrib.layers import fully_connected\n",
    "from tensorflow.examples.tutorials.mnist import input_data"
   ]
  },
  {
   "cell_type": "code",
   "execution_count": 5,
   "metadata": {},
   "outputs": [
    {
     "data": {
      "text/plain": [
       "-7.3890560989306504"
      ]
     },
     "execution_count": 5,
     "metadata": {},
     "output_type": "execute_result"
    }
   ],
   "source": [
    "-np.exp(2)"
   ]
  },
  {
   "cell_type": "code",
   "execution_count": 20,
   "metadata": {},
   "outputs": [
    {
     "data": {
      "text/plain": [
       "-1.0498221244986778"
      ]
     },
     "execution_count": 20,
     "metadata": {},
     "output_type": "execute_result"
    }
   ],
   "source": [
    "np.log(0.35)"
   ]
  },
  {
   "cell_type": "code",
   "execution_count": 22,
   "metadata": {},
   "outputs": [
    {
     "data": {
      "text/plain": [
       "0.001"
      ]
     },
     "execution_count": 22,
     "metadata": {},
     "output_type": "execute_result"
    }
   ],
   "source": [
    "10e-4"
   ]
  },
  {
   "cell_type": "code",
   "execution_count": 2,
   "metadata": {},
   "outputs": [
    {
     "name": "stdout",
     "output_type": "stream",
     "text": [
      "Extracting /tmp/data/train-images-idx3-ubyte.gz\n",
      "Extracting /tmp/data/train-labels-idx1-ubyte.gz\n",
      "Extracting /tmp/data/t10k-images-idx3-ubyte.gz\n",
      "Extracting /tmp/data/t10k-labels-idx1-ubyte.gz\n"
     ]
    }
   ],
   "source": [
    "mnist = input_data.read_data_sets(\"/tmp/data/\")"
   ]
  },
  {
   "cell_type": "code",
   "execution_count": 3,
   "metadata": {},
   "outputs": [],
   "source": [
    "# Network architecture\n",
    "n_inputs = 28*28\n",
    "n_hidden1 = 400\n",
    "n_hidden2 = 400\n",
    "n_outputs = 10"
   ]
  },
  {
   "cell_type": "code",
   "execution_count": 4,
   "metadata": {},
   "outputs": [],
   "source": [
    "def neurons_bayes(X, n_neurons, name, mu, rho, noise, activation=None):\n",
    "    with tf.name_scope(name):\n",
    "        n_inputs = int(X.get_shape()[1])\n",
    "        W = tf.Variable(mu + tf.log(1 + tf.exp(rho))*noise,\n",
    "                       name=\"weights\")\n",
    "        b = tf.Variable(tf.zeros([n_neurons]), name=\"biases\")\n",
    "        z = tf.matmul(X,W) + b\n",
    "        if activation == \"relu\":\n",
    "            return tf.nn.relu(z)\n",
    "        else:\n",
    "            return z"
   ]
  },
  {
   "cell_type": "code",
   "execution_count": 5,
   "metadata": {},
   "outputs": [],
   "source": [
    "tf.reset_default_graph()\n",
    "\n",
    "# variational posterior parameters\n",
    "mu1 = tf.Variable(tf.random_uniform([n_inputs, n_hidden1]), name=\"mu1\")\n",
    "mu2 = tf.Variable(tf.random_uniform([n_hidden1, n_hidden2]), name=\"mu2\")\n",
    "mu3 = tf.Variable(tf.random_uniform([n_hidden2, n_outputs]), name=\"mu3\")\n",
    "rho1 = tf.Variable(tf.random_uniform([n_inputs, n_hidden1], 0, 1.0), name=\"rho1\")\n",
    "rho2 = tf.Variable(tf.random_uniform([n_hidden1, n_hidden2], 0, 1.0), name=\"rho1\")\n",
    "rho3 = tf.Variable(tf.random_uniform([n_hidden2, n_outputs], 0, 1.0), name=\"rho1\")\n",
    "\n",
    "noise1 = tf.random_normal((n_inputs, n_hidden1), dtype=tf.float32)\n",
    "noise2 = tf.random_normal((n_hidden1, n_hidden2), dtype=tf.float32)\n",
    "noise3 = tf.random_normal((n_hidden2, n_outputs), dtype=tf.float32)\n",
    "\n",
    "# defining layers\n",
    "X = tf.placeholder(tf.float32, shape = [None, n_inputs])\n",
    "y = tf.placeholder(tf.int64, shape = (None))\n",
    "hidden1 = neurons_bayes(X, n_hidden1, \"hidden1\", mu1, rho1, noise1, \"relu\") \n",
    "hidden2 = neurons_bayes(hidden1, n_hidden2, \"hidden2\", mu2, rho2, noise2, \"relu\")\n",
    "logits = neurons_bayes(hidden2, n_outputs, \"outputs\", mu3, rho3, noise3)"
   ]
  },
  {
   "cell_type": "code",
   "execution_count": 6,
   "metadata": {},
   "outputs": [],
   "source": [
    "# defining loss function\n",
    "eps = 1e-10\n",
    "weights = [v for v in tf.get_collection(tf.GraphKeys.GLOBAL_VARIABLES) \\\n",
    "           if \"weights\" in v.name]\n",
    "with tf.name_scope(\"loss\"):\n",
    "    log_xentropy = tf.reduce_mean(tf.log(eps + tf.nn.sparse_softmax_cross_entropy_with_logits(labels=y,\n",
    "                                 logits=logits)))\n",
    "    \n",
    "    log_prior_weights = [-v**2/(2*0.05) - tf.log(eps + tf.sqrt(2*np.pi*0.05)) for v in tf.get_collection(tf.GraphKeys.GLOBAL_VARIABLES) \\\n",
    "           if \"weights\" in v.name]\n",
    "    log_prior = (tf.reduce_sum(log_prior_weights[0]) + tf.reduce_sum(log_prior_weights[1]) \n",
    "                + tf.reduce_sum(log_prior_weights[2])) \n",
    "    \n",
    "    sigma1 = tf.log(1+tf.exp(rho1))\n",
    "    sigma2 = tf.log(1+tf.exp(rho2))\n",
    "    sigma3 = tf.log(1+tf.exp(rho3))\n",
    "    \n",
    "    log_posterior_1 = -(weights[0] - mu1)**2 /(2*sigma1**2) - tf.log(eps + tf.sqrt(2*np.pi)*sigma1)\n",
    "    log_posterior_2 = -(weights[1] - mu2)**2 /(2*sigma2**2) - tf.log(eps + tf.sqrt(2*np.pi)*sigma2)\n",
    "    log_posterior_3 = -(weights[2] - mu3)**2 /(2*sigma3**2) - tf.log(eps + tf.sqrt(2*np.pi)*sigma3)\n",
    "    log_variational_posterior = (tf.reduce_sum(log_posterior_1) + \n",
    "                                 tf.reduce_sum(log_posterior_2) + \n",
    "                                 tf.reduce_sum(log_posterior_3)) \n",
    "    \n",
    "    # expected lower bound\n",
    "    elb = log_variational_posterior - log_xentropy - log_prior"
   ]
  },
  {
   "cell_type": "code",
   "execution_count": 7,
   "metadata": {},
   "outputs": [],
   "source": [
    "# optimizer\n",
    "# learning algorithm\n",
    "learning_rate = 0.01\n",
    "with tf.name_scope(\"train\"):    \n",
    "    optimizer = tf.train.GradientDescentOptimizer(learning_rate)\n",
    "    training_op = optimizer.minimize(elb)"
   ]
  },
  {
   "cell_type": "code",
   "execution_count": 8,
   "metadata": {},
   "outputs": [],
   "source": [
    "# random sampling to get weights\n",
    "weights = [v for v in tf.get_collection(tf.GraphKeys.GLOBAL_VARIABLES) \\\n",
    "           if \"weights\" in v.name]\n",
    "\n",
    "noise1 = tf.random_normal((n_inputs, n_hidden1), dtype=tf.float32)\n",
    "noise2 = tf.random_normal((n_hidden1, n_hidden2), dtype=tf.float32)\n",
    "noise3 = tf.random_normal((n_hidden2, n_outputs), dtype=tf.float32)\n",
    "\n",
    "w1_reassign = tf.assign(weights[0], tf.ones((n_inputs, n_hidden1))*mu1 + tf.log(1 + tf.exp(rho1))*noise1)\n",
    "w2_reassign = tf.assign(weights[1], tf.ones((n_hidden1, n_hidden2))*mu2 + tf.log(1 + tf.exp(rho2))*noise2)\n",
    "w3_reassign = tf.assign(weights[2], tf.ones((n_hidden2, n_outputs))*mu3 + tf.log(1 + tf.exp(rho3))*noise3)"
   ]
  },
  {
   "cell_type": "code",
   "execution_count": 9,
   "metadata": {},
   "outputs": [],
   "source": [
    "# evaluation\n",
    "with tf.name_scope(\"eval\"):\n",
    "    correct = tf.nn.in_top_k(logits, y, 1)\n",
    "    accuracy = tf.reduce_mean(tf.cast(correct, tf.float32))"
   ]
  },
  {
   "cell_type": "code",
   "execution_count": 10,
   "metadata": {},
   "outputs": [],
   "source": [
    "init = tf.global_variables_initializer()"
   ]
  },
  {
   "cell_type": "markdown",
   "metadata": {},
   "source": [
    "### Training time"
   ]
  },
  {
   "cell_type": "code",
   "execution_count": 11,
   "metadata": {},
   "outputs": [],
   "source": [
    "# training time\n",
    "n_epochs = 400\n",
    "batch_size = 100"
   ]
  },
  {
   "cell_type": "code",
   "execution_count": 12,
   "metadata": {
    "scrolled": false
   },
   "outputs": [
    {
     "name": "stdout",
     "output_type": "stream",
     "text": [
      "0 Train accuracy: 0.1 Test_accuracy: 0.1009 ELB: 3.85166e+06\n",
      "1 Train accuracy: 0.0 Test_accuracy: 0.0974 ELB: 4.45058e+06\n",
      "2 Train accuracy: 0.08 Test_accuracy: 0.101 ELB: 5.13468e+06\n",
      "3 Train accuracy: 0.18 Test_accuracy: 0.101 ELB: 5.86646e+06\n",
      "4 Train accuracy: 0.0 Test_accuracy: 0.0892 ELB: 6.63904e+06\n",
      "5 Train accuracy: 0.14 Test_accuracy: 0.1032 ELB: 5.09849e+06\n",
      "6 Train accuracy: 0.18 Test_accuracy: 0.1009 ELB: 6.59419e+06\n",
      "7 Train accuracy: 0.04 Test_accuracy: 0.0889 ELB: -6.39503e+07\n",
      "8 Train accuracy: 0.08 Test_accuracy: 0.0975 ELB: -4.74646e+07\n",
      "9 Train accuracy: 0.14 Test_accuracy: 0.101 ELB: -3.38489e+08\n",
      "10 Train accuracy: 0.08 Test_accuracy: 0.101 ELB: -6.37419e+08\n",
      "11 Train accuracy: 0.12 Test_accuracy: 0.101 ELB: -2.3951e+09\n",
      "12 Train accuracy: 0.02 Test_accuracy: 0.0931 ELB: -6.59212e+10\n",
      "13 Train accuracy: 0.04 Test_accuracy: 0.101 ELB: -2.8514e+10\n",
      "14 Train accuracy: 0.1 Test_accuracy: 0.101 ELB: -3.9801e+10\n",
      "15 Train accuracy: 0.1 Test_accuracy: 0.1117 ELB: -2.88929e+10\n",
      "16 Train accuracy: 0.14 Test_accuracy: 0.1149 ELB: -4.93572e+10\n",
      "17 Train accuracy: 0.12 Test_accuracy: 0.1172 ELB: -1.29279e+11\n",
      "18 Train accuracy: 0.24 Test_accuracy: 0.1351 ELB: -3.94433e+11\n",
      "19 Train accuracy: 0.04 Test_accuracy: 0.1192 ELB: -2.07781e+13\n",
      "20 Train accuracy: 0.04 Test_accuracy: 0.0843 ELB: -1.18612e+14\n",
      "21 Train accuracy: 0.06 Test_accuracy: 0.0917 ELB: -1.0944e+14\n",
      "22 Train accuracy: 0.06 Test_accuracy: 0.1194 ELB: -1.9293e+14\n",
      "23 Train accuracy: 0.2 Test_accuracy: 0.1043 ELB: -3.613e+14\n",
      "24 Train accuracy: 0.24 Test_accuracy: 0.1175 ELB: -6.7567e+14\n",
      "25 Train accuracy: 0.12 Test_accuracy: 0.0511 ELB: -9.40129e+14\n",
      "26 Train accuracy: 0.06 Test_accuracy: 0.0597 ELB: -2.95025e+15\n",
      "27 Train accuracy: 0.08 Test_accuracy: 0.097 ELB: -1.82581e+15\n",
      "28 Train accuracy: 0.06 Test_accuracy: 0.047 ELB: -1.68249e+15\n",
      "29 Train accuracy: 0.04 Test_accuracy: 0.0566 ELB: -2.2178e+15\n",
      "30 Train accuracy: 0.06 Test_accuracy: 0.0507 ELB: -2.69549e+15\n",
      "31 Train accuracy: 0.02 Test_accuracy: 0.0774 ELB: -4.36699e+15\n",
      "32 Train accuracy: 0.14 Test_accuracy: 0.1626 ELB: -4.39356e+15\n",
      "33 Train accuracy: 0.18 Test_accuracy: 0.1658 ELB: -5.3143e+15\n",
      "34 Train accuracy: 0.06 Test_accuracy: 0.0883 ELB: -6.31548e+15\n",
      "35 Train accuracy: 0.1 Test_accuracy: 0.0849 ELB: -8.48992e+15\n",
      "36 Train accuracy: 0.12 Test_accuracy: 0.0891 ELB: -1.11434e+16\n",
      "37 Train accuracy: 0.08 Test_accuracy: 0.1116 ELB: -1.26314e+16\n",
      "38 Train accuracy: 0.12 Test_accuracy: 0.1171 ELB: -1.40528e+16\n",
      "39 Train accuracy: 0.2 Test_accuracy: 0.1023 ELB: -1.97708e+16\n"
     ]
    },
    {
     "ename": "KeyboardInterrupt",
     "evalue": "",
     "output_type": "error",
     "traceback": [
      "\u001b[0;31m---------------------------------------------------------------------------\u001b[0m",
      "\u001b[0;31mKeyboardInterrupt\u001b[0m                         Traceback (most recent call last)",
      "\u001b[0;32m<ipython-input-12-e518335c64ba>\u001b[0m in \u001b[0;36m<module>\u001b[0;34m()\u001b[0m\n\u001b[1;32m      5\u001b[0m             \u001b[0mX_batch\u001b[0m\u001b[0;34m,\u001b[0m \u001b[0my_batch\u001b[0m \u001b[0;34m=\u001b[0m \u001b[0mmnist\u001b[0m\u001b[0;34m.\u001b[0m\u001b[0mtrain\u001b[0m\u001b[0;34m.\u001b[0m\u001b[0mnext_batch\u001b[0m\u001b[0;34m(\u001b[0m\u001b[0mbatch_size\u001b[0m\u001b[0;34m)\u001b[0m\u001b[0;34m\u001b[0m\u001b[0m\n\u001b[1;32m      6\u001b[0m             \u001b[0msess\u001b[0m\u001b[0;34m.\u001b[0m\u001b[0mrun\u001b[0m\u001b[0;34m(\u001b[0m\u001b[0;34m[\u001b[0m\u001b[0mw1_reassign\u001b[0m\u001b[0;34m,\u001b[0m \u001b[0mw2_reassign\u001b[0m\u001b[0;34m,\u001b[0m \u001b[0mw3_reassign\u001b[0m\u001b[0;34m]\u001b[0m\u001b[0;34m)\u001b[0m\u001b[0;34m\u001b[0m\u001b[0m\n\u001b[0;32m----> 7\u001b[0;31m             \u001b[0msess\u001b[0m\u001b[0;34m.\u001b[0m\u001b[0mrun\u001b[0m\u001b[0;34m(\u001b[0m\u001b[0mtraining_op\u001b[0m\u001b[0;34m,\u001b[0m \u001b[0mfeed_dict\u001b[0m\u001b[0;34m=\u001b[0m\u001b[0;34m{\u001b[0m\u001b[0mX\u001b[0m\u001b[0;34m:\u001b[0m \u001b[0mX_batch\u001b[0m\u001b[0;34m,\u001b[0m \u001b[0my\u001b[0m\u001b[0;34m:\u001b[0m\u001b[0my_batch\u001b[0m\u001b[0;34m}\u001b[0m\u001b[0;34m)\u001b[0m\u001b[0;34m\u001b[0m\u001b[0m\n\u001b[0m\u001b[1;32m      8\u001b[0m         \u001b[0macc_train\u001b[0m \u001b[0;34m=\u001b[0m \u001b[0maccuracy\u001b[0m\u001b[0;34m.\u001b[0m\u001b[0meval\u001b[0m\u001b[0;34m(\u001b[0m\u001b[0mfeed_dict\u001b[0m\u001b[0;34m=\u001b[0m\u001b[0;34m{\u001b[0m\u001b[0mX\u001b[0m\u001b[0;34m:\u001b[0m \u001b[0mX_batch\u001b[0m\u001b[0;34m,\u001b[0m \u001b[0my\u001b[0m\u001b[0;34m:\u001b[0m\u001b[0my_batch\u001b[0m\u001b[0;34m}\u001b[0m\u001b[0;34m)\u001b[0m\u001b[0;34m\u001b[0m\u001b[0m\n\u001b[1;32m      9\u001b[0m         acc_test = accuracy.eval(feed_dict={X: mnist.test.images,\n",
      "\u001b[0;32m~/ml/env/lib/python3.5/site-packages/tensorflow/python/client/session.py\u001b[0m in \u001b[0;36mrun\u001b[0;34m(self, fetches, feed_dict, options, run_metadata)\u001b[0m\n\u001b[1;32m    887\u001b[0m     \u001b[0;32mtry\u001b[0m\u001b[0;34m:\u001b[0m\u001b[0;34m\u001b[0m\u001b[0m\n\u001b[1;32m    888\u001b[0m       result = self._run(None, fetches, feed_dict, options_ptr,\n\u001b[0;32m--> 889\u001b[0;31m                          run_metadata_ptr)\n\u001b[0m\u001b[1;32m    890\u001b[0m       \u001b[0;32mif\u001b[0m \u001b[0mrun_metadata\u001b[0m\u001b[0;34m:\u001b[0m\u001b[0;34m\u001b[0m\u001b[0m\n\u001b[1;32m    891\u001b[0m         \u001b[0mproto_data\u001b[0m \u001b[0;34m=\u001b[0m \u001b[0mtf_session\u001b[0m\u001b[0;34m.\u001b[0m\u001b[0mTF_GetBuffer\u001b[0m\u001b[0;34m(\u001b[0m\u001b[0mrun_metadata_ptr\u001b[0m\u001b[0;34m)\u001b[0m\u001b[0;34m\u001b[0m\u001b[0m\n",
      "\u001b[0;32m~/ml/env/lib/python3.5/site-packages/tensorflow/python/client/session.py\u001b[0m in \u001b[0;36m_run\u001b[0;34m(self, handle, fetches, feed_dict, options, run_metadata)\u001b[0m\n\u001b[1;32m   1118\u001b[0m     \u001b[0;32mif\u001b[0m \u001b[0mfinal_fetches\u001b[0m \u001b[0;32mor\u001b[0m \u001b[0mfinal_targets\u001b[0m \u001b[0;32mor\u001b[0m \u001b[0;34m(\u001b[0m\u001b[0mhandle\u001b[0m \u001b[0;32mand\u001b[0m \u001b[0mfeed_dict_tensor\u001b[0m\u001b[0;34m)\u001b[0m\u001b[0;34m:\u001b[0m\u001b[0;34m\u001b[0m\u001b[0m\n\u001b[1;32m   1119\u001b[0m       results = self._do_run(handle, final_targets, final_fetches,\n\u001b[0;32m-> 1120\u001b[0;31m                              feed_dict_tensor, options, run_metadata)\n\u001b[0m\u001b[1;32m   1121\u001b[0m     \u001b[0;32melse\u001b[0m\u001b[0;34m:\u001b[0m\u001b[0;34m\u001b[0m\u001b[0m\n\u001b[1;32m   1122\u001b[0m       \u001b[0mresults\u001b[0m \u001b[0;34m=\u001b[0m \u001b[0;34m[\u001b[0m\u001b[0;34m]\u001b[0m\u001b[0;34m\u001b[0m\u001b[0m\n",
      "\u001b[0;32m~/ml/env/lib/python3.5/site-packages/tensorflow/python/client/session.py\u001b[0m in \u001b[0;36m_do_run\u001b[0;34m(self, handle, target_list, fetch_list, feed_dict, options, run_metadata)\u001b[0m\n\u001b[1;32m   1315\u001b[0m     \u001b[0;32mif\u001b[0m \u001b[0mhandle\u001b[0m \u001b[0;32mis\u001b[0m \u001b[0;32mNone\u001b[0m\u001b[0;34m:\u001b[0m\u001b[0;34m\u001b[0m\u001b[0m\n\u001b[1;32m   1316\u001b[0m       return self._do_call(_run_fn, self._session, feeds, fetches, targets,\n\u001b[0;32m-> 1317\u001b[0;31m                            options, run_metadata)\n\u001b[0m\u001b[1;32m   1318\u001b[0m     \u001b[0;32melse\u001b[0m\u001b[0;34m:\u001b[0m\u001b[0;34m\u001b[0m\u001b[0m\n\u001b[1;32m   1319\u001b[0m       \u001b[0;32mreturn\u001b[0m \u001b[0mself\u001b[0m\u001b[0;34m.\u001b[0m\u001b[0m_do_call\u001b[0m\u001b[0;34m(\u001b[0m\u001b[0m_prun_fn\u001b[0m\u001b[0;34m,\u001b[0m \u001b[0mself\u001b[0m\u001b[0;34m.\u001b[0m\u001b[0m_session\u001b[0m\u001b[0;34m,\u001b[0m \u001b[0mhandle\u001b[0m\u001b[0;34m,\u001b[0m \u001b[0mfeeds\u001b[0m\u001b[0;34m,\u001b[0m \u001b[0mfetches\u001b[0m\u001b[0;34m)\u001b[0m\u001b[0;34m\u001b[0m\u001b[0m\n",
      "\u001b[0;32m~/ml/env/lib/python3.5/site-packages/tensorflow/python/client/session.py\u001b[0m in \u001b[0;36m_do_call\u001b[0;34m(self, fn, *args)\u001b[0m\n\u001b[1;32m   1321\u001b[0m   \u001b[0;32mdef\u001b[0m \u001b[0m_do_call\u001b[0m\u001b[0;34m(\u001b[0m\u001b[0mself\u001b[0m\u001b[0;34m,\u001b[0m \u001b[0mfn\u001b[0m\u001b[0;34m,\u001b[0m \u001b[0;34m*\u001b[0m\u001b[0margs\u001b[0m\u001b[0;34m)\u001b[0m\u001b[0;34m:\u001b[0m\u001b[0;34m\u001b[0m\u001b[0m\n\u001b[1;32m   1322\u001b[0m     \u001b[0;32mtry\u001b[0m\u001b[0;34m:\u001b[0m\u001b[0;34m\u001b[0m\u001b[0m\n\u001b[0;32m-> 1323\u001b[0;31m       \u001b[0;32mreturn\u001b[0m \u001b[0mfn\u001b[0m\u001b[0;34m(\u001b[0m\u001b[0;34m*\u001b[0m\u001b[0margs\u001b[0m\u001b[0;34m)\u001b[0m\u001b[0;34m\u001b[0m\u001b[0m\n\u001b[0m\u001b[1;32m   1324\u001b[0m     \u001b[0;32mexcept\u001b[0m \u001b[0merrors\u001b[0m\u001b[0;34m.\u001b[0m\u001b[0mOpError\u001b[0m \u001b[0;32mas\u001b[0m \u001b[0me\u001b[0m\u001b[0;34m:\u001b[0m\u001b[0;34m\u001b[0m\u001b[0m\n\u001b[1;32m   1325\u001b[0m       \u001b[0mmessage\u001b[0m \u001b[0;34m=\u001b[0m \u001b[0mcompat\u001b[0m\u001b[0;34m.\u001b[0m\u001b[0mas_text\u001b[0m\u001b[0;34m(\u001b[0m\u001b[0me\u001b[0m\u001b[0;34m.\u001b[0m\u001b[0mmessage\u001b[0m\u001b[0;34m)\u001b[0m\u001b[0;34m\u001b[0m\u001b[0m\n",
      "\u001b[0;32m~/ml/env/lib/python3.5/site-packages/tensorflow/python/client/session.py\u001b[0m in \u001b[0;36m_run_fn\u001b[0;34m(session, feed_dict, fetch_list, target_list, options, run_metadata)\u001b[0m\n\u001b[1;32m   1300\u001b[0m           return tf_session.TF_Run(session, options,\n\u001b[1;32m   1301\u001b[0m                                    \u001b[0mfeed_dict\u001b[0m\u001b[0;34m,\u001b[0m \u001b[0mfetch_list\u001b[0m\u001b[0;34m,\u001b[0m \u001b[0mtarget_list\u001b[0m\u001b[0;34m,\u001b[0m\u001b[0;34m\u001b[0m\u001b[0m\n\u001b[0;32m-> 1302\u001b[0;31m                                    status, run_metadata)\n\u001b[0m\u001b[1;32m   1303\u001b[0m \u001b[0;34m\u001b[0m\u001b[0m\n\u001b[1;32m   1304\u001b[0m     \u001b[0;32mdef\u001b[0m \u001b[0m_prun_fn\u001b[0m\u001b[0;34m(\u001b[0m\u001b[0msession\u001b[0m\u001b[0;34m,\u001b[0m \u001b[0mhandle\u001b[0m\u001b[0;34m,\u001b[0m \u001b[0mfeed_dict\u001b[0m\u001b[0;34m,\u001b[0m \u001b[0mfetch_list\u001b[0m\u001b[0;34m)\u001b[0m\u001b[0;34m:\u001b[0m\u001b[0;34m\u001b[0m\u001b[0m\n",
      "\u001b[0;31mKeyboardInterrupt\u001b[0m: "
     ]
    }
   ],
   "source": [
    "with tf.Session() as sess:\n",
    "    init.run()\n",
    "    for epoch in range(n_epochs):\n",
    "        for iteration in range(mnist.train.num_examples // batch_size):\n",
    "            X_batch, y_batch = mnist.train.next_batch(batch_size)\n",
    "            sess.run([w1_reassign, w2_reassign, w3_reassign])\n",
    "            sess.run(training_op, feed_dict={X: X_batch, y:y_batch})\n",
    "        acc_train = accuracy.eval(feed_dict={X: X_batch, y:y_batch})\n",
    "        acc_test = accuracy.eval(feed_dict={X: mnist.test.images,\n",
    "                                y: mnist.test.labels})\n",
    "        current_elb = elb.eval(feed_dict={X: X_batch, y:y_batch})\n",
    "        print(epoch, \"Train accuracy:\", acc_train, \"Test_accuracy:\", acc_test, \"ELB:\", current_elb)"
   ]
  },
  {
   "cell_type": "code",
   "execution_count": null,
   "metadata": {},
   "outputs": [],
   "source": []
  }
 ],
 "metadata": {
  "kernelspec": {
   "display_name": "machine-learning",
   "language": "python",
   "name": "machine-learning"
  },
  "language_info": {
   "codemirror_mode": {
    "name": "ipython",
    "version": 3
   },
   "file_extension": ".py",
   "mimetype": "text/x-python",
   "name": "python",
   "nbconvert_exporter": "python",
   "pygments_lexer": "ipython3",
   "version": "3.5.2"
  }
 },
 "nbformat": 4,
 "nbformat_minor": 2
}
